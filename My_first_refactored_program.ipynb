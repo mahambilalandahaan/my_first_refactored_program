{
  "nbformat": 4,
  "nbformat_minor": 0,
  "metadata": {
    "colab": {
      "provenance": []
    },
    "kernelspec": {
      "name": "python3",
      "display_name": "Python 3"
    },
    "language_info": {
      "name": "python"
    }
  },
  "cells": [
    {
      "cell_type": "code",
      "execution_count": 1,
      "metadata": {
        "colab": {
          "base_uri": "https://localhost:8080/",
          "height": 856
        },
        "id": "uu-A097CDPpj",
        "outputId": "a488530f-f8af-4443-bef4-f38e6abd202d"
      },
      "outputs": [
        {
          "output_type": "display_data",
          "data": {
            "text/plain": [
              "<IPython.core.display.HTML object>"
            ],
            "text/html": [
              "<b style ='color: blue;'> 14 MINI PROGRAMS <\b> "
            ]
          },
          "metadata": {}
        },
        {
          "output_type": "display_data",
          "data": {
            "text/plain": [
              "<IPython.core.display.HTML object>"
            ],
            "text/html": [
              "<b style ='color: black;'> ~~~~~~~~~~~~~~~~~~~~~<\b> "
            ]
          },
          "metadata": {}
        },
        {
          "output_type": "display_data",
          "data": {
            "text/plain": [
              "<IPython.core.display.HTML object>"
            ],
            "text/html": [
              "<b style ='color: skyblue;'>\n",
              " 1 : Factorial <\b>"
            ]
          },
          "metadata": {}
        },
        {
          "output_type": "display_data",
          "data": {
            "text/plain": [
              "<IPython.core.display.HTML object>"
            ],
            "text/html": [
              "<b style ='color: skyblue;'>\n",
              " 2 : Multiplication Table <\b>"
            ]
          },
          "metadata": {}
        },
        {
          "output_type": "display_data",
          "data": {
            "text/plain": [
              "<IPython.core.display.HTML object>"
            ],
            "text/html": [
              "<b style ='color: skyblue;'>\n",
              " 3 : Sum of First N Natural Numbers <\b>"
            ]
          },
          "metadata": {}
        },
        {
          "output_type": "display_data",
          "data": {
            "text/plain": [
              "<IPython.core.display.HTML object>"
            ],
            "text/html": [
              "<b style ='color: skyblue;'>\n",
              " 4 : Count the Number of Digits <\b>"
            ]
          },
          "metadata": {}
        },
        {
          "output_type": "display_data",
          "data": {
            "text/plain": [
              "<IPython.core.display.HTML object>"
            ],
            "text/html": [
              "<b style ='color: skyblue;'>\n",
              " 5 : Count the Number of Digits (Using String) <\b>"
            ]
          },
          "metadata": {}
        },
        {
          "output_type": "display_data",
          "data": {
            "text/plain": [
              "<IPython.core.display.HTML object>"
            ],
            "text/html": [
              "<b style ='color: skyblue;'>\n",
              " 6 : Reverse the Digits of a Number <\b>"
            ]
          },
          "metadata": {}
        },
        {
          "output_type": "display_data",
          "data": {
            "text/plain": [
              "<IPython.core.display.HTML object>"
            ],
            "text/html": [
              "<b style ='color: skyblue;'>\n",
              " 7 : Palindrome Checker <\b>"
            ]
          },
          "metadata": {}
        },
        {
          "output_type": "display_data",
          "data": {
            "text/plain": [
              "<IPython.core.display.HTML object>"
            ],
            "text/html": [
              "<b style ='color: skyblue;'>\n",
              " 8 : Sum of Digits <\b>"
            ]
          },
          "metadata": {}
        },
        {
          "output_type": "display_data",
          "data": {
            "text/plain": [
              "<IPython.core.display.HTML object>"
            ],
            "text/html": [
              "<b style ='color: skyblue;'>\n",
              " 9 : Armstrong Number Checker <\b>"
            ]
          },
          "metadata": {}
        },
        {
          "output_type": "display_data",
          "data": {
            "text/plain": [
              "<IPython.core.display.HTML object>"
            ],
            "text/html": [
              "<b style ='color: skyblue;'>\n",
              " 10 : Prime Number Checker <\b>"
            ]
          },
          "metadata": {}
        },
        {
          "output_type": "display_data",
          "data": {
            "text/plain": [
              "<IPython.core.display.HTML object>"
            ],
            "text/html": [
              "<b style ='color: skyblue;'>\n",
              " 11 : Fibonnaci series generator <\b>"
            ]
          },
          "metadata": {}
        },
        {
          "output_type": "display_data",
          "data": {
            "text/plain": [
              "<IPython.core.display.HTML object>"
            ],
            "text/html": [
              "<b style ='color: skyblue;'>\n",
              " 12 : Separate Even and Odd Numbers <\b>"
            ]
          },
          "metadata": {}
        },
        {
          "output_type": "display_data",
          "data": {
            "text/plain": [
              "<IPython.core.display.HTML object>"
            ],
            "text/html": [
              "<b style ='color: skyblue;'>\n",
              " 13 : Guess the Number Game <\b>"
            ]
          },
          "metadata": {}
        },
        {
          "output_type": "display_data",
          "data": {
            "text/plain": [
              "<IPython.core.display.HTML object>"
            ],
            "text/html": [
              "<b style ='color: skyblue;'>\n",
              " 14 : Star Pattern Printing <\b>"
            ]
          },
          "metadata": {}
        },
        {
          "output_type": "display_data",
          "data": {
            "text/plain": [
              "<IPython.core.display.HTML object>"
            ],
            "text/html": [
              "<b style ='color: red;'> \n",
              "15 : Exit <\b> "
            ]
          },
          "metadata": {}
        },
        {
          "output_type": "display_data",
          "data": {
            "text/plain": [
              "<IPython.core.display.HTML object>"
            ],
            "text/html": [
              "<b style ='color: black;'> ~~~~~~~~~~~~~~~~~~~~~<\b>"
            ]
          },
          "metadata": {}
        },
        {
          "name": "stdout",
          "output_type": "stream",
          "text": [
            "Enter the number what you want to run: 1\n",
            "Enter a number: 6\n",
            "~~~~~~~~~~~~~~~~~~~~~~~~~~~~\n",
            "Factorial of 6 = 720\n",
            "~~~~~~~~~~~~~~~~~~~~~~~~~~~~\n",
            "Enter the number what you want to run: 2\n",
            "Enter a number: 5\n",
            "~~~~~~~~~~~~~~~~~~~~~~~~~~~~\n",
            "Multiplication table of 5:\n",
            "~~~~~~~~~~~~~~~~~~~~~~~~~~~~\n",
            "5 × 1 = 5\n",
            "5 × 2 = 10\n",
            "5 × 3 = 15\n",
            "5 × 4 = 20\n",
            "5 × 5 = 25\n",
            "5 × 6 = 30\n",
            "5 × 7 = 35\n",
            "5 × 8 = 40\n",
            "5 × 9 = 45\n",
            "5 × 10 = 50\n",
            "Enter the number what you want to run: 3\n",
            "Enter a number: 4\n",
            "~~~~~~~~~~~~~~~~~~~~~~~~~~~~\n",
            "Sum of first 4 natural numbers = 10\n",
            "~~~~~~~~~~~~~~~~~~~~~~~~~~~~\n",
            "Enter the number what you want to run: 15\n"
          ]
        },
        {
          "output_type": "display_data",
          "data": {
            "text/plain": [
              "<IPython.core.display.HTML object>"
            ],
            "text/html": [
              "<b style ='color: black;'> ~~~~~~~~~~~~~~~~~~~~~<\b> "
            ]
          },
          "metadata": {}
        },
        {
          "output_type": "display_data",
          "data": {
            "text/plain": [
              "<IPython.core.display.HTML object>"
            ],
            "text/html": [
              "<b style ='color: blue;'> Have a great day!💟 bye bye💟<\b> "
            ]
          },
          "metadata": {}
        },
        {
          "output_type": "display_data",
          "data": {
            "text/plain": [
              "<IPython.core.display.HTML object>"
            ],
            "text/html": [
              "<b style ='color: black;'> ~~~~~~~~~~~~~~~~~~~~~<\b> "
            ]
          },
          "metadata": {}
        }
      ],
      "source": [
        "# 🧠 First 14 Mini Programs – Refactored & Updated (Week 9)\n",
        "# ---------------------------------------------------------\n",
        "# Author: Madiha Atif\n",
        "# Updated: October 24, 2025\n",
        "# Purpose: Refactored, readable, and reusable versions of my first 14 Python programs.\n",
        "# ---------------------------------------------------------\n",
        "\n",
        "# =========================================================\n",
        "# Program 1: Find the Factorial of a Number\n",
        "# =========================================================\n",
        "\n",
        "def factorial(n: int) -> int:\n",
        "    \"\"\"Return the factorial of the given number.\"\"\"\n",
        "    if n < 0:\n",
        "        raise ValueError(\"Factorial is not defined for negative numbers\")\n",
        "    fact = 1\n",
        "    for i in range(1, n + 1):\n",
        "        fact *= i\n",
        "    return fact\n",
        "\n",
        "\n",
        "\n",
        "# =========================================================\n",
        "# Program 2: Multiplication Table\n",
        "# =========================================================\n",
        "\n",
        "def print_table(n: int, limit: int = 10) -> None:\n",
        "    \"\"\"Print the multiplication table of n up to the given limit.\"\"\"\n",
        "    for i in range(1, limit + 1):\n",
        "        print(f\"{n} × {i} = {n * i}\")\n",
        "\n",
        "\n",
        "\n",
        "\n",
        "# =========================================================\n",
        "# Program 3: Sum of First N Natural Numbers\n",
        "# =========================================================\n",
        "\n",
        "def sum_of_natural_numbers(n: int) -> int:\n",
        "    \"\"\"Return the sum of the first n natural numbers.\"\"\"\n",
        "    total = 0\n",
        "    for i in range(1, n + 1):\n",
        "        total += i\n",
        "    return total\n",
        "\n",
        "\n",
        "\n",
        "# =========================================================\n",
        "# Program 4: Count the Number of Digits (Using Math)\n",
        "# =========================================================\n",
        "\n",
        "def count_digits(n: int) -> int:\n",
        "    \"\"\"Return the number of digits in a given positive integer.\"\"\"\n",
        "    count = 0\n",
        "    while n > 0:\n",
        "        n //= 10\n",
        "        count += 1\n",
        "    return count\n",
        "\n",
        "\n",
        "\n",
        "# =========================================================\n",
        "# Program 5: Count the Number of Digits (Using String)\n",
        "# =========================================================\n",
        "\n",
        "def count_digits_str(n: str) -> int:\n",
        "    \"\"\"Return the number of digits in a number given as a string.\"\"\"\n",
        "    return len(n)\n",
        "\n",
        "\n",
        "\n",
        "# =========================================================\n",
        "# Program 6: Reverse the Digits of a Number\n",
        "# =========================================================\n",
        "\n",
        "def reverse_number(n: int) -> int:\n",
        "    \"\"\"Return the reverse of a given positive integer.\"\"\"\n",
        "    rev = 0\n",
        "    while n > 0:\n",
        "        digit = n % 10\n",
        "        rev = rev * 10 + digit\n",
        "        n //= 10\n",
        "    return rev\n",
        "\n",
        "\n",
        "# =========================================================\n",
        "# Program 7: Palindrome Checker\n",
        "# =========================================================\n",
        "\n",
        "def is_palindrome(n: int) -> bool:\n",
        "    \"\"\"Return True if the number is a palindrome.\"\"\"\n",
        "    original = n\n",
        "    rev = 0\n",
        "    while n > 0:\n",
        "        digit = n % 10\n",
        "        rev = rev * 10 + digit\n",
        "        n //= 10\n",
        "    return original == rev\n",
        "\n",
        "\n",
        "\n",
        "# =========================================================\n",
        "# Program 8: Sum of Digits\n",
        "# =========================================================\n",
        "\n",
        "def sum_of_digits(n: int) -> int:\n",
        "    \"\"\"Return the sum of all digits in the given number.\"\"\"\n",
        "    total = 0\n",
        "    while n > 0:\n",
        "        total += n % 10\n",
        "        n //= 10\n",
        "    return total\n",
        "\n",
        "\n",
        "\n",
        "# =========================================================\n",
        "# Program 9: Armstrong Number Checker\n",
        "# =========================================================\n",
        "\n",
        "def is_armstrong(n: int) -> bool:\n",
        "    \"\"\"Return True if the number is an Armstrong number.\"\"\"\n",
        "    digits = str(n)\n",
        "    power = len(digits)\n",
        "    total = sum(int(d) ** power for d in digits)\n",
        "    return total == n\n",
        "\n",
        "\n",
        "\n",
        "# =========================================================\n",
        "# Program 10: Prime Number Checker\n",
        "# =========================================================\n",
        "\n",
        "def is_prime(n: int) -> bool:\n",
        "    \"\"\"Return True if the number is prime.\"\"\"\n",
        "    if n <= 1:\n",
        "        return False\n",
        "    for i in range(2, int(n ** 0.5) + 1):\n",
        "        if n % i == 0:\n",
        "            return False\n",
        "    return True\n",
        "\n",
        "\n",
        "\n",
        "# =========================================================\n",
        "# Program 11: Fibonacci Series Generator\n",
        "# =========================================================\n",
        "\n",
        "def fibonacci_series(n: int) -> list[int]:\n",
        "    \"\"\"Return a list containing the first n terms of the Fibonacci series.\"\"\"\n",
        "    if n <= 0:\n",
        "        return []\n",
        "    elif n == 1:\n",
        "        return [0]\n",
        "\n",
        "    series = [0, 1]\n",
        "    for _ in range(2, n):\n",
        "        series.append(series[-1] + series[-2])\n",
        "    return series\n",
        "\n",
        "\n",
        "\n",
        "# =========================================================\n",
        "# Program 12: Separate Even and Odd Numbers\n",
        "# =========================================================\n",
        "\n",
        "def separate_even_odd(start: int, end: int) -> tuple[list[int], list[int]]:\n",
        "    \"\"\"Return two lists: even and odd numbers between start and end.\"\"\"\n",
        "    even = [i for i in range(start, end) if i % 2 == 0]\n",
        "    odd = [i for i in range(start, end) if i % 2 != 0]\n",
        "    return even, odd\n",
        "\n",
        "\n",
        "\n",
        "# =========================================================\n",
        "# Program 13: Guess the Number Game\n",
        "# =========================================================\n",
        "\n",
        "import random\n",
        "\n",
        "def guess_the_number(chances: int = 3, low: int = 1, high: int = 10) -> None:\n",
        "    \"\"\"Simple number guessing game.\"\"\"\n",
        "    secret_number = random.randint(low, high)\n",
        "    print(f\"I have chosen a number between {low} and {high}.\")\n",
        "    print(f\"You have {chances} chances to guess it!\")\n",
        "\n",
        "    for attempt in range(1, chances + 1):\n",
        "        guess = int(input(f\"Attempt {attempt}: Enter your guess: \"))\n",
        "        if guess == secret_number:\n",
        "            print(f\"🎉 Congratulations! You guessed it right in {attempt} attempt(s)!\")\n",
        "            break\n",
        "        elif attempt < chances:\n",
        "            print(\"❌ Oops! Try again.\")\n",
        "        else:\n",
        "            print(f\"😔 The secret number was {secret_number}.\")\n",
        "\n",
        "\n",
        "\n",
        "# =========================================================\n",
        "# Program 14: Star Pattern Printing\n",
        "# =========================================================\n",
        "\n",
        "def print_pattern(char: str = \"*\", rows: int = 5, reverse: bool = False) -> None:\n",
        "    \"\"\"Print a triangle pattern using a given character.\"\"\"\n",
        "    if len(char) != 1:\n",
        "        print(\"❌ Please enter only one character.\")\n",
        "        return\n",
        "    if reverse:\n",
        "        for i in range(rows, 0, -1):\n",
        "            print(char * i)\n",
        "    else:\n",
        "        for i in range(1, rows + 1):\n",
        "            print(char * i)\n",
        "\n",
        "\n",
        "if __name__ == \"__main__\":\n",
        "  from IPython.display import display, HTML\n",
        "  display(HTML(\"<b style ='color: blue;'> 14 MINI PROGRAMS <\\b> \"))\n",
        "  display(HTML(\"<b style ='color: black;'> ~~~~~~~~~~~~~~~~~~~~~<\\b> \"))\n",
        "  display(HTML(\"<b style ='color: skyblue;'>\\n 1 : Factorial <\\b>\"))\n",
        "  display(HTML(\"<b style ='color: skyblue;'>\\n 2 : Multiplication Table <\\b>\"))\n",
        "  display(HTML(\"<b style ='color: skyblue;'>\\n 3 : Sum of First N Natural Numbers <\\b>\"))\n",
        "  display(HTML(\"<b style ='color: skyblue;'>\\n 4 : Count the Number of Digits <\\b>\"))\n",
        "  display(HTML(\"<b style ='color: skyblue;'>\\n 5 : Count the Number of Digits (Using String) <\\b>\"))\n",
        "  display(HTML(\"<b style ='color: skyblue;'>\\n 6 : Reverse the Digits of a Number <\\b>\"))\n",
        "  display(HTML(\"<b style ='color: skyblue;'>\\n 7 : Palindrome Checker <\\b>\"))\n",
        "  display(HTML(\"<b style ='color: skyblue;'>\\n 8 : Sum of Digits <\\b>\"))\n",
        "  display(HTML(\"<b style ='color: skyblue;'>\\n 9 : Armstrong Number Checker <\\b>\"))\n",
        "  display(HTML(\"<b style ='color: skyblue;'>\\n 10 : Prime Number Checker <\\b>\"))\n",
        "  display(HTML(\"<b style ='color: skyblue;'>\\n 11 : Fibonnaci series generator <\\b>\"))\n",
        "  display(HTML(\"<b style ='color: skyblue;'>\\n 12 : Separate Even and Odd Numbers <\\b>\"))\n",
        "  display(HTML(\"<b style ='color: skyblue;'>\\n 13 : Guess the Number Game <\\b>\"))\n",
        "  display(HTML(\"<b style ='color: skyblue;'>\\n 14 : Star Pattern Printing <\\b>\"))\n",
        "  display(HTML(\"<b style ='color: red;'> \\n15 : Exit <\\b> \"))\n",
        "  display(HTML(\"<b style ='color: black;'> ~~~~~~~~~~~~~~~~~~~~~<\\b>\"))\n",
        "\n",
        "while True:\n",
        "   op = input(\"Enter the number what you want to run: \")\n",
        "\n",
        "\n",
        "   if op == \"1\":\n",
        "            num = int(input(\"Enter a number: \"))\n",
        "            print(\"~~~~~~~~~~~~~~~~~~~~~~~~~~~~\")\n",
        "            print(f\"Factorial of {num} = {factorial(num)}\")\n",
        "            print(\"~~~~~~~~~~~~~~~~~~~~~~~~~~~~\")\n",
        "\n",
        "   elif op == \"2\":\n",
        "            num = int(input(\"Enter a number: \"))\n",
        "            print(\"~~~~~~~~~~~~~~~~~~~~~~~~~~~~\")\n",
        "            print(f\"Multiplication table of {num}:\")\n",
        "            print(\"~~~~~~~~~~~~~~~~~~~~~~~~~~~~\")\n",
        "            print_table(num)\n",
        "\n",
        "   elif op == \"3\":\n",
        "            num = int(input(\"Enter a number: \"))\n",
        "            print(\"~~~~~~~~~~~~~~~~~~~~~~~~~~~~\")\n",
        "            print(f\"Sum of first {num} natural numbers = {sum_of_natural_numbers(num)}\")\n",
        "            print(\"~~~~~~~~~~~~~~~~~~~~~~~~~~~~\")\n",
        "\n",
        "\n",
        "   elif op == \"4\":\n",
        "\n",
        "    num = int(input(\"Enter a number: \"))\n",
        "    print(\"~~~~~~~~~~~~~~~~~~~~~~~~~~~~\")\n",
        "    print(f\"Number of digits in {num} = {count_digits(num)}\")\n",
        "    print(\"~~~~~~~~~~~~~~~~~~~~~~~~~~~~\")\n",
        "   elif op == \"5\":\n",
        "\n",
        "    num = input(\"Enter a number: \")\n",
        "    print(\"~~~~~~~~~~~~~~~~~~~~~~~~~~~~\")\n",
        "    print(f\"The number {num} has {count_digits_str(num)} digits.\")\n",
        "    print(\"~~~~~~~~~~~~~~~~~~~~~~~~~~~~\")\n",
        "   elif op == \"6\":\n",
        "\n",
        "    num = int(input(\"Enter a number: \"))\n",
        "    print(\"~~~~~~~~~~~~~~~~~~~~~~~~~~~~\")\n",
        "    print(f\"The reverse of {num} is {reverse_number(num)}\")\n",
        "    print(\"~~~~~~~~~~~~~~~~~~~~~~~~~~~~\")\n",
        "   elif op == \"7\":\n",
        "\n",
        "    num = int(input(\"Enter a number: \"))\n",
        "    print(\"~~~~~~~~~~~~~~~~~~~~~~~~~~~~\")\n",
        "    if is_palindrome(num):\n",
        "        print(f\"{num} is a palindrome ✅\")\n",
        "    else:\n",
        "        print(f\"{num} is not a palindrome ❌\")\n",
        "    print(\"~~~~~~~~~~~~~~~~~~~~~~~~~~~~\")\n",
        "   elif op ==\"8\":\n",
        "    num = int(input(\"Enter a number: \"))\n",
        "    print(\"~~~~~~~~~~~~~~~~~~~~~~~~~~~~\")\n",
        "    print(f\"Sum of digits of {num} = {sum_of_digits(num)}\")\n",
        "    print(\"~~~~~~~~~~~~~~~~~~~~~~~~~~~~\")\n",
        "   elif op == \"9\":\n",
        "\n",
        "    num = int(input(\"Enter a number: \"))\n",
        "    print(\"~~~~~~~~~~~~~~~~~~~~~~~~~~~~\")\n",
        "    if is_armstrong(num):\n",
        "        print(f\"{num} is an Armstrong number ✅\")\n",
        "    else:\n",
        "        print(f\"{num} is not an Armstrong number ❌\")\n",
        "    print(\"~~~~~~~~~~~~~~~~~~~~~~~~~~~~\")\n",
        "   elif op == \"10\":\n",
        "\n",
        "    num = int(input(\"Enter a number: \"))\n",
        "    print(\"~~~~~~~~~~~~~~~~~~~~~~~~~~~~\")\n",
        "    if is_prime(num):\n",
        "        print(f\"{num} is a Prime number ✅\")\n",
        "    else:\n",
        "        print(f\"{num} is NOT a Prime number ❌\")\n",
        "    print(\"~~~~~~~~~~~~~~~~~~~~~~~~~~~~\")\n",
        "   elif op == \"11\":\n",
        "    terms = int(input(\"Enter number of terms: \"))\n",
        "    print(\"~~~~~~~~~~~~~~~~~~~~~~~~~~~~\")\n",
        "    print(\"Fibonacci Series:\", fibonacci_series(terms))\n",
        "    print(\"~~~~~~~~~~~~~~~~~~~~~~~~~~~~\")\n",
        "   elif op == \"12\":\n",
        "\n",
        "    start = int(input(\"Enter initial number: \"))\n",
        "    end = int(input(\"Enter final number: \"))\n",
        "    even, odd = separate_even_odd(start, end)\n",
        "    print(\"~~~~~~~~~~~~~~~~~~~~~~~~~~~~\")\n",
        "    print(\"Even Numbers:\", even)\n",
        "    print(\"Odd Numbers :\", odd)\n",
        "    print(\"~~~~~~~~~~~~~~~~~~~~~~~~~~~~\")\n",
        "   elif op == \"13\":\n",
        "\n",
        "    chances = int(input(\"Enter number of chances: \"))\n",
        "    guess_the_number(chances)\n",
        "    print(\"~~~~~~~~~~~~~~~~~~~~~~~~~~\")\n",
        "   elif op == \"14\":\n",
        "\n",
        "    char = input(\"Enter a character: \")\n",
        "    n = int(input(\"Enter pattern length: \"))\n",
        "    print_pattern(char, n)\n",
        "   elif op ==\"15\":\n",
        "    display(HTML(\"<b style ='color: black;'> ~~~~~~~~~~~~~~~~~~~~~<\\b> \"))\n",
        "    display(HTML(\"<b style ='color: blue;'> Have a great day!💟 bye bye💟<\\b> \"))\n",
        "    display(HTML(\"<b style ='color: black;'> ~~~~~~~~~~~~~~~~~~~~~<\\b> \"))\n",
        "    break\n",
        "   else:\n",
        "    print(\"Invalid input. Please enter a valid number.\")\n",
        "# =========================================================\n",
        "# ✅ Reflection Summary\n",
        "# =========================================================\n",
        "# - Improved readability and function-based design.\n",
        "# - Added type hints, error handling, and clean structure.\n",
        "# - Used user-defined inputs in all programs.\n",
        "# - Created a strong foundation for further modular programming.\n"
      ]
    }
  ]
}